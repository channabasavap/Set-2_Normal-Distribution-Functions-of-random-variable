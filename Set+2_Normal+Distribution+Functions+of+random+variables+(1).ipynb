{
 "cells": [
  {
   "cell_type": "markdown",
   "id": "5eaae5a3",
   "metadata": {},
   "source": [
    "#1. The time required for servicing transmissions is normally distributed with m=45 minutes and s = 8 minutes. The service manager plans to have work begin on the transmission of a customer’s car 10 minutes after the car is dropped off and the customer is told that the car will be ready within 1 hour from drop-off. What is the probability that the service manager cannot meet his commitment?\n",
    "\n",
    "A. 0.3875\n",
    "\n",
    "B. 0.2676\n",
    "\n",
    "C. 0.5\n",
    "\n",
    "D. 0.6987"
   ]
  },
  {
   "cell_type": "code",
   "execution_count": 2,
   "id": "560df313",
   "metadata": {},
   "outputs": [],
   "source": [
    "from scipy import stats\n",
    "import scipy.stats as stats\n",
    "import statistics as st\n",
    "import pandas as pd\n",
    "import numpy as np   "
   ]
  },
  {
   "cell_type": "code",
   "execution_count": 3,
   "id": "a494d9c8",
   "metadata": {},
   "outputs": [
    {
     "name": "stdout",
     "output_type": "stream",
     "text": [
      "Z is: 0.625\n"
     ]
    },
    {
     "data": {
      "text/plain": [
       "0.7340144709512995"
      ]
     },
     "execution_count": 3,
     "metadata": {},
     "output_type": "execute_result"
    }
   ],
   "source": [
    "mean=45+10\n",
    "X=60\n",
    "STD=8\n",
    "Z=(X-mean)/STD\n",
    "print(\"Z is:\",Z)\n",
    "stats.norm.cdf(Z)"
   ]
  },
  {
   "cell_type": "code",
   "execution_count": 4,
   "id": "4e10d7bb",
   "metadata": {},
   "outputs": [
    {
     "data": {
      "text/plain": [
       "0.26598552904870054"
      ]
     },
     "execution_count": 4,
     "metadata": {},
     "output_type": "execute_result"
    }
   ],
   "source": [
    "#probability that the service manager cannot meet his commitment\n",
    "1-stats.norm.cdf(Z)\n",
    "# So answer is B."
   ]
  },
  {
   "cell_type": "code",
   "execution_count": 5,
   "id": "042e3d55",
   "metadata": {},
   "outputs": [
    {
     "data": {
      "text/plain": [
       "0.26598552904870054"
      ]
     },
     "execution_count": 5,
     "metadata": {},
     "output_type": "execute_result"
    }
   ],
   "source": [
    "#probability that the service manager cannot meet his commitment\n",
    "1-stats.norm.cdf(Z)\n",
    "# So answer is B."
   ]
  },
  {
   "cell_type": "markdown",
   "id": "4a6507c2",
   "metadata": {},
   "source": [
    "2.The current age (in years) of 400 clerical employees at an insurance claims processing center is normally distributed with mean m = 38 and Standard deviation s =6. For each statement below, please specify True/False. If false, briefly explain why.\n",
    "\n",
    "A. More employees at the processing center are older than 44 than between 38 and 44.\n",
    "\n",
    "B. A training program for employees under the age of 30 at the center would be expected to attract about 36 employees.\n",
    "     \n"
   ]
  },
  {
   "cell_type": "code",
   "execution_count": 6,
   "id": "4407f1bf",
   "metadata": {},
   "outputs": [
    {
     "name": "stdout",
     "output_type": "stream",
     "text": [
      "People above 44 age: 63.0\n",
      "People between 38 and 44 age: 137.0\n"
     ]
    }
   ],
   "source": [
    "#  A. More employees at the processing center are older than 44 than between 38 and 44.\n",
    "Mean2=38\n",
    "STD2=6\n",
    "#Z Score=(Value-Mean)/(STD2)\n",
    "#Z for above 44:\n",
    "Z44=(44-Mean2)/STD2\n",
    "z44p=stats.norm.cdf(Z44)\n",
    "#People above 44 age:\n",
    "print('People above 44 age:',round((1-z44p)*400,0))\n",
    "#People above 44 age:\n",
    "round((1-z44p),2)*400\n",
    "#people between 38 and 44 age:\n",
    "Z38=(38-Mean2)/STD2\n",
    "z38p=stats.norm.cdf(Z38)\n",
    "Z44_z38=round((z44p-z38p)*400,0)\n",
    "print('People between 38 and 44 age:',Z44_z38)\n"
   ]
  },
  {
   "cell_type": "markdown",
   "id": "93d491fc",
   "metadata": {},
   "source": [
    "More employees at the processing center are older than 44 than between 38 and 44 is a False statement since more people between age 38 and 44 than above 44."
   ]
  },
  {
   "cell_type": "markdown",
   "id": "1883fd78",
   "metadata": {},
   "source": [
    "B. A training program for employees under the age of 30 at the center  would be expected to attract about 36 employees."
   ]
  },
  {
   "cell_type": "code",
   "execution_count": 7,
   "id": "fd2b2f5b",
   "metadata": {},
   "outputs": [
    {
     "data": {
      "text/plain": [
       "36.0"
      ]
     },
     "execution_count": 7,
     "metadata": {},
     "output_type": "execute_result"
    }
   ],
   "source": [
    "z30=(30-Mean2)/STD2\n",
    "z30p=stats.norm.cdf(z30)\n",
    "#employees under the age of 30 at the center\n",
    "round(z30p*400,0)"
   ]
  },
  {
   "cell_type": "markdown",
   "id": "32d9615b",
   "metadata": {},
   "source": [
    "True statement-B"
   ]
  },
  {
   "cell_type": "markdown",
   "id": "2319f795",
   "metadata": {},
   "source": [
    "4. Let X ~ N(100, 20**2). Find two values, a and b, symmetric about the mean, such that the probability of the random variable taking a value between them is 0.99.\n",
    "\n",
    "A. 90.5, 105.9\n",
    "\n",
    "B. 80.2, 119.8\n",
    "\n",
    "C. 22, 78\n",
    "\n",
    "D. 48.5, 151.5\n",
    "\n",
    "E. 90.1, 109.9"
   ]
  },
  {
   "cell_type": "code",
   "execution_count": 8,
   "id": "88de1465",
   "metadata": {},
   "outputs": [
    {
     "name": "stdout",
     "output_type": "stream",
     "text": [
      "Values of a and b are: (48.48341392902199, 151.516586070978)\n"
     ]
    }
   ],
   "source": [
    "MEAN=100\n",
    "STD=20\n",
    "#WE NEED TO FIND a and b .So the probability of the random variable taking a value between them is 0.99.\n",
    "#So Probability of random variable taking a value outside (a,b) region\n",
    "P_OUT=1-0.99\n",
    "#Left side of a and right side of b probability is:\n",
    "P_aL=(1-0.99)/2\n",
    "P_bR=-(1-0.99)/2\n",
    "#So the interval of a and b have probabilty of 0.99 is:\n",
    "Interval=stats.norm.interval(0.99,MEAN,STD)\n",
    "print(\"Values of a and b are:\",Interval)\n",
    "#Answer is D"
   ]
  },
  {
   "cell_type": "markdown",
   "id": "b94769b3",
   "metadata": {},
   "source": [
    "5. Consider a company that has two different divisions. The annual profits from the two divisions are independent and have distributions Profit1 ~ N(5, 32) and Profit2 ~ N(7, 42) respectively. Both the profits are in Million$.\n",
    "\n",
    "Answer the following questions about the total profit of the company in Rupees. Assume that $1 = Rs. 45\n",
    "\n",
    "A. Specify a Rupee range (centered on the mean) such that it contains 95% probability for the annual profit of the company.\n",
    "\n",
    "B. Specify the 5th percentile of profit (in Rupees) for the company\n",
    "\n",
    "C. Which of the two divisions has a larger probability of making a loss in a given year?"
   ]
  },
  {
   "cell_type": "code",
   "execution_count": 9,
   "id": "f318e8af",
   "metadata": {},
   "outputs": [
    {
     "name": "stdout",
     "output_type": "stream",
     "text": [
      "Mean of department1 in $: 225 Million\n",
      "Mean of department1 in $: 315 Million\n",
      "The mean of the company in Million$ is: 540\n",
      "The STD of the company in Million$ is: 225.0\n",
      "Rupee rangecontains 95% probability for the annual profit of the company: (99.00810347848784, 980.9918965215122) in Million$\n"
     ]
    }
   ],
   "source": [
    "mean1=5*45\n",
    "print(\"Mean of department1 in $:\",mean1,\"Million\")\n",
    "std1=3\n",
    "mean2=7*45\n",
    "print(\"Mean of department1 in $:\",mean2,\"Million\")\n",
    "std2=4\n",
    "#A Rupee range (centered on the mean) such that it contains 95% probability for the annual profit of the company\n",
    "mean_company=mean1+mean2\n",
    "STD_company=np.sqrt(9+16)*45\n",
    "rupee_range=stats.norm.interval(0.95,mean_company,STD_company)\n",
    "print(\"The mean of the company in Million$ is:\",mean_company)\n",
    "print(\"The STD of the company in Million$ is:\",STD_company)\n",
    "print(\"Rupee rangecontains 95% probability for the annual profit of the company:\",rupee_range,\"in Million$\")\n"
   ]
  },
  {
   "cell_type": "code",
   "execution_count": 10,
   "id": "6142756b",
   "metadata": {},
   "outputs": [
    {
     "name": "stdout",
     "output_type": "stream",
     "text": [
      "5th percentile of profit (in Rupees) for the company in Million$: 169.9079339359186\n"
     ]
    }
   ],
   "source": [
    "from numpy.lib.function_base import percentile\n",
    "# B.Specify the 5th percentile of profit (in Rupees) for the company\n",
    "# 5TH PERCENTILE VALUE FROM Z TABLE\n",
    "z_5=stats.norm.ppf(0.05)\n",
    "z_5\n",
    "#5th percentile of profit is from Z=(X-Mean)/STD\n",
    "X=(z_5*STD_company)+mean_company\n",
    "print(\"5th percentile of profit (in Rupees) for the company in Million$:\",X)\n",
    "\n",
    "     "
   ]
  },
  {
   "cell_type": "code",
   "execution_count": 11,
   "id": "36474bd3",
   "metadata": {},
   "outputs": [
    {
     "name": "stdout",
     "output_type": "stream",
     "text": [
      "probability of making loss by department 1: 0.0477903522728147\n",
      "probability of making loss by department 2: 0.040059156863817086\n"
     ]
    }
   ],
   "source": [
    "# C.Which of the two divisions has a larger probability of making a loss in a given year?\n",
    "probability_loss_1=stats.norm.cdf(0,5,3)\n",
    "probability_loss_2=stats.norm.cdf(0,7,4)\n",
    "print(\"probability of making loss by department 1:\",probability_loss_1)\n",
    "print(\"probability of making loss by department 2:\",probability_loss_2)\n"
   ]
  },
  {
   "cell_type": "code",
   "execution_count": null,
   "id": "0cc70413",
   "metadata": {},
   "outputs": [],
   "source": []
  }
 ],
 "metadata": {
  "kernelspec": {
   "display_name": "Python 3 (ipykernel)",
   "language": "python",
   "name": "python3"
  },
  "language_info": {
   "codemirror_mode": {
    "name": "ipython",
    "version": 3
   },
   "file_extension": ".py",
   "mimetype": "text/x-python",
   "name": "python",
   "nbconvert_exporter": "python",
   "pygments_lexer": "ipython3",
   "version": "3.9.7"
  }
 },
 "nbformat": 4,
 "nbformat_minor": 5
}
